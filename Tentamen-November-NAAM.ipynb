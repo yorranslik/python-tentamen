{
 "cells": [
  {
   "cell_type": "markdown",
   "metadata": {},
   "source": [
    "# Welcome to this exam for data analysis in Python\n",
    "Over the last few weeks, you've indulged yourselves with Python, probably sometimes with a bit of frustration. Fortunately, it has been shown that frustration leads to new learnings and hopefully you've gained some beautiful skills. This exam aims at testing these newly acquired skills and consists of 2 *mandatory* sections and 1 optional. The first section contains some random python questions and focusses at testing your basic python skills. The 2nd and optional third section aim at testing your skills to work on an actual business problem that requires monthly action and therefor we want to create a piece of code that we can simply run monthly, with the third section being a though cookie and definitely requiring you to use the internet to solve it. \n",
    "\n",
    "The approach to this exam is all up to you! You're free to call each other, me, use the internet, hire a freelancer, do it within 30 minutes, or take 5 hours to solve it. It's all up to you. The questions are relatively easily google'able, as long as you understand the problem properly! also, don't forget, there is no correct/wrong approach to a problem! All I need you to do is show me that you understand how to tackle a problem. Keep in mind to save your notebook frequently!\n",
    "\n",
    "The exam was designed to take approximately 45-60 minutes (the first two compulsory sections (verplicht)) and the opotional third section shall take another 15. And I know I've been hard on you with some chapters, but I promise to not break your heart (during this exam) and am truly confident that you can succesfully complete it yourself or with the help of the internet! Best of luck! \n"
   ]
  },
  {
   "cell_type": "markdown",
   "metadata": {},
   "source": [
    "## Section one\n",
    "Functions are the backbone of programming; let's create some!\n",
    "\n",
    "1. Write a Python function to convert temperatures from celsius to fahrenheit. The formula to do so is `Fahrenheit = Celsius * 9/5 + 32`, which would give us something like this as a basic calcullation:  (0°C × 9/5) + 32 = 32°F\n"
   ]
  },
  {
   "cell_type": "code",
   "execution_count": null,
   "metadata": {},
   "outputs": [],
   "source": []
  },
  {
   "cell_type": "markdown",
   "metadata": {},
   "source": [
    "2. Write a Python function that accepts an integer or float (n) and computes the value of `n+n*n+n*n*n`. So, if we input 2 into that function, we expect 2 + 4 + 8 = 14 in return."
   ]
  },
  {
   "cell_type": "code",
   "execution_count": null,
   "metadata": {},
   "outputs": [],
   "source": []
  },
  {
   "cell_type": "markdown",
   "metadata": {},
   "source": [
    "3. Write a Python function to multiply all the numbers in a list. We can use `number_list` as an example list, but our list to verify your function can be longer or shorter. Don't forget to use Google as your friend here!"
   ]
  },
  {
   "cell_type": "code",
   "execution_count": null,
   "metadata": {},
   "outputs": [],
   "source": [
    "number_list = [1, 2, 3, 4, 5]"
   ]
  },
  {
   "cell_type": "markdown",
   "metadata": {},
   "source": [
    "4. Write a Python function to count the number of even and odd numbers from a list of numbers. Us `number_list` as input. From this list, we expect the function to return a string stating that 3 numbers are odd, and that 2 are even. Tip: use the module operator to verify if you can divide a number by 2, resulting in a 0 to the right of the comma. For example, you might want to use `if (num % 2) == 0:`. Also, this has been questioned a lot on the world wide web."
   ]
  },
  {
   "cell_type": "code",
   "execution_count": null,
   "metadata": {},
   "outputs": [],
   "source": [
    "number_list = [1, 2, 3, 4, 5]"
   ]
  },
  {
   "cell_type": "markdown",
   "metadata": {},
   "source": [
    "## Section two\n",
    "Eventhough this year is a bit different, drinking wine and champagne is the favorite activity of many around the world during the holiday season! However, it can be difficult to find a good wine to drink on christmas eve. Luckily for you, we'll dive into some wine data, helping you prepare for the december period! Every wine is rated by professionals, resulting in over 130.000 wineratings using **points**, but we will just be working with the first 50.000. Let's select a good one!\n",
    "\n",
    "Can you import the pandas library, then open the `wijnenwijnenwijnen.csv` dataset using pandas, and show the first 5 rows of the dataset? Also, don't forget to have a look around with .info() and .describe() to understand the dataset a bit more."
   ]
  },
  {
   "cell_type": "code",
   "execution_count": null,
   "metadata": {},
   "outputs": [],
   "source": []
  },
  {
   "cell_type": "markdown",
   "metadata": {},
   "source": [
    "Now that we have a dataset containing the wine, it's time to select a proper wine for our christmas break. I'm really curious if we can see a difference between the wine ratings per wine-country. So, can you make a grouped data format, where we can see the average/mean ratings for every country? Which country would you suggest?"
   ]
  },
  {
   "cell_type": "code",
   "execution_count": null,
   "metadata": {},
   "outputs": [],
   "source": []
  },
  {
   "cell_type": "markdown",
   "metadata": {},
   "source": [
    "So, now that we have seen the average rating per country, let's go into a bit more detail. My grandfather has asked me to bring a German wine from the Mosel provance. As I have won some money in the local ice-skating competition, I have over 300,- euros to spend a good wine for my grandfather. Can you select all the german wines from the Mosel provance, with a price over 300,- euro?"
   ]
  },
  {
   "cell_type": "code",
   "execution_count": null,
   "metadata": {},
   "outputs": [],
   "source": []
  },
  {
   "cell_type": "markdown",
   "metadata": {},
   "source": [
    "## Section three *\n",
    "Let's work on an actual business case provided by ANWB Medical Air Ambulances. Although the case has been altered, it is a very relevant case and really thankfull to Robin for providing this case. We won't do any hardcore analyses, but will try to automate some processes using pandas.\n",
    "\n",
    "Every month, Robin has to manually manipulate and merge two dataframes into one, to be loaded into the air ambulance's navigation software. These data sources originate from the Rijksoverheid, and are 100's of Megabytes in size, but has been reduced to approx. 175mb in an excel format for this exam. One of the files in a so-called .dbf format, which is a specific database format and the second (adapted) file is in excel. I will help you import the .dbf file as we need to work with a new package to open this type. Hopefully by now, you know that you can use plenty of file types in python! In this case, you will combine the .dfb and excel file.\n",
    "\n",
    "Now, by default, the helicopter's navigation can only navigate to normal streets, using a streetname. However, as you may know, many accidents occur at the highways. In order for the navigation to work properly, we need to add the location of every section of highway (wegvakken) in The Netherlands which enables it to navigate to all the dutch motorways. The locations of these highway sections (wegvakken) is specified by a *hectometerpaaltje*. Hence, our first data set contains all the highway sections and hectometerpaaltjes, so the helicopter knows where to go. But, just flying somewhere won't enable MAA to assist, they also need to land safely. \n",
    "\n",
    "Luckily, our second data set contains information on the width of the highways at the location of every 'wegvak' in the netherlands. The EC-135 type of helicopter that MAA uses, has a wingspan of 10.20 meters, but for safety, it requires at a minum 20 meter to land, giving it plenty of leeway on each side. \n",
    "\n",
    "In short, MAA need this so help the people in need in a save way! To do so, we need to combine the datasets as the helicopter's navigation software requires 5 columns (excuse my typing errors) in a specific order, being:\n",
    " - HECTOOMRING\n",
    " - WVK_ID (wegvak ID)\n",
    " - WPSNAAMNEN\n",
    " - L_HNR_LNKS (width of the highway at the leftside)\n",
    " - L_HNR_RHTS (width of the highway at the right hand side)\n",
    " \n",
    "**Now, can you help out Robin and the MAA by creating such a file?**\n",
    "\n",
    "As said above, i'll import the .dbf file and transform it into a dataframe that contains the highway sections (wegvakken) using an ID, the hectometerpaaltjes and some other random info. You can disregard the `PyTables is not installed` message."
   ]
  },
  {
   "cell_type": "code",
   "execution_count": 1,
   "metadata": {},
   "outputs": [
    {
     "name": "stdout",
     "output_type": "stream",
     "text": [
      "PyTables is not installed. No support for HDF output.\n"
     ]
    }
   ],
   "source": [
    "# importing\n",
    "import pandas as pd\n",
    "import numpy as np\n",
    "from simpledbf import Dbf5"
   ]
  },
  {
   "cell_type": "code",
   "execution_count": 2,
   "metadata": {},
   "outputs": [
    {
     "data": {
      "text/html": [
       "<div>\n",
       "<style scoped>\n",
       "    .dataframe tbody tr th:only-of-type {\n",
       "        vertical-align: middle;\n",
       "    }\n",
       "\n",
       "    .dataframe tbody tr th {\n",
       "        vertical-align: top;\n",
       "    }\n",
       "\n",
       "    .dataframe thead th {\n",
       "        text-align: right;\n",
       "    }\n",
       "</style>\n",
       "<table border=\"1\" class=\"dataframe\">\n",
       "  <thead>\n",
       "    <tr style=\"text-align: right;\">\n",
       "      <th></th>\n",
       "      <th>HECTOMTRNG</th>\n",
       "      <th>AFSTAND</th>\n",
       "      <th>WVK_ID</th>\n",
       "      <th>WVK_BEGDAT</th>\n",
       "      <th>ZIJDE</th>\n",
       "      <th>HECTO_LTTR</th>\n",
       "    </tr>\n",
       "  </thead>\n",
       "  <tbody>\n",
       "    <tr>\n",
       "      <th>0</th>\n",
       "      <td>1181</td>\n",
       "      <td>91</td>\n",
       "      <td>386231014</td>\n",
       "      <td>2001-03-01</td>\n",
       "      <td>NaN</td>\n",
       "      <td>NaN</td>\n",
       "    </tr>\n",
       "    <tr>\n",
       "      <th>1</th>\n",
       "      <td>1165</td>\n",
       "      <td>59</td>\n",
       "      <td>388229002</td>\n",
       "      <td>2001-03-01</td>\n",
       "      <td>NaN</td>\n",
       "      <td>NaN</td>\n",
       "    </tr>\n",
       "    <tr>\n",
       "      <th>2</th>\n",
       "      <td>921</td>\n",
       "      <td>42</td>\n",
       "      <td>412188002</td>\n",
       "      <td>2001-03-01</td>\n",
       "      <td>NaN</td>\n",
       "      <td>NaN</td>\n",
       "    </tr>\n",
       "    <tr>\n",
       "      <th>3</th>\n",
       "      <td>920</td>\n",
       "      <td>146</td>\n",
       "      <td>412188002</td>\n",
       "      <td>2001-03-01</td>\n",
       "      <td>NaN</td>\n",
       "      <td>NaN</td>\n",
       "    </tr>\n",
       "    <tr>\n",
       "      <th>4</th>\n",
       "      <td>919</td>\n",
       "      <td>251</td>\n",
       "      <td>412188002</td>\n",
       "      <td>2001-03-01</td>\n",
       "      <td>NaN</td>\n",
       "      <td>NaN</td>\n",
       "    </tr>\n",
       "  </tbody>\n",
       "</table>\n",
       "</div>"
      ],
      "text/plain": [
       "   HECTOMTRNG  AFSTAND     WVK_ID  WVK_BEGDAT ZIJDE HECTO_LTTR\n",
       "0        1181       91  386231014  2001-03-01   NaN        NaN\n",
       "1        1165       59  388229002  2001-03-01   NaN        NaN\n",
       "2         921       42  412188002  2001-03-01   NaN        NaN\n",
       "3         920      146  412188002  2001-03-01   NaN        NaN\n",
       "4         919      251  412188002  2001-03-01   NaN        NaN"
      ]
     },
     "execution_count": 2,
     "metadata": {},
     "output_type": "execute_result"
    }
   ],
   "source": [
    "# opening file 1 containing the hectometerpaaltjes\n",
    "\n",
    "dbf = Dbf5('Hectopunten.dbf')\n",
    "\n",
    "\n",
    "hectopunten = dbf.to_dataframe()\n",
    "hectopunten.head()\n"
   ]
  },
  {
   "cell_type": "markdown",
   "metadata": {},
   "source": [
    "Thus, we now have all the hectometerpaaltjes and highway sections in the Netherlands. These hectometerpaaltjes are at specific 'wegvakken', which we use as an adress to fly to. In order to match the hectometerpaaltjes with additional information on the wegvakken (such ad the width), we need to combine it with the excel file containing information on the wegvakken, named `Wegvakken.xlsx`. \n",
    "\n",
    "\n",
    "Now, the wegvakken file has been altered to make operations quicker, as we're working on a shared webserver. The files are in an excel format. Can you open it an assign it to an pandas dataframe? **Please be aware, that opening this excel file can be rather slow and can take up to 1min**. Therefore, please verify that you've used the proper code to open the excel file. \n",
    "\n",
    "After opening, can you combine the data and select the columns so that our dataframe contains only the expected output by the helicopter's navigation software in that same order (the five columns mentioned above)?\n",
    "\n",
    "**Here your fun really starts:**"
   ]
  },
  {
   "cell_type": "code",
   "execution_count": null,
   "metadata": {},
   "outputs": [],
   "source": []
  },
  {
   "cell_type": "markdown",
   "metadata": {},
   "source": [
    "Now that we have the data combined, we need to select the highways where at least the left hand side of the highway has a width of 20 meters. can you update the dataframe to show only wegvakken (wegvakken ID's) with a width of > 20 metre? On behalf of MAA, I would like to thank you!"
   ]
  },
  {
   "cell_type": "code",
   "execution_count": null,
   "metadata": {},
   "outputs": [],
   "source": []
  },
  {
   "cell_type": "markdown",
   "metadata": {},
   "source": [
    "Now that we have a smaller dataframe containing just the wegvakken with a width of > 20M, we can make one more update. Even though we as humans prefer meters, the helicopters actually prefer the width in feet. Can you make a function that changes metres to feet and then apply this on both the L_HNR_LNKS and L_HNR_RHTS column? "
   ]
  },
  {
   "cell_type": "code",
   "execution_count": null,
   "metadata": {},
   "outputs": [],
   "source": []
  }
 ],
 "metadata": {
  "kernelspec": {
   "display_name": "Python 3",
   "language": "python",
   "name": "python3"
  },
  "language_info": {
   "codemirror_mode": {
    "name": "ipython",
    "version": 3
   },
   "file_extension": ".py",
   "mimetype": "text/x-python",
   "name": "python",
   "nbconvert_exporter": "python",
   "pygments_lexer": "ipython3",
   "version": "3.7.7"
  }
 },
 "nbformat": 4,
 "nbformat_minor": 4
}
